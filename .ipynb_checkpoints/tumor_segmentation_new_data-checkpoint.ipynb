{
 "cells": [
  {
   "cell_type": "code",
   "execution_count": null,
   "id": "0528898f-2272-4dbf-8301-e1147acb1729",
   "metadata": {},
   "outputs": [],
   "source": [
    "# imports\n",
    "\n",
    "import random\n",
    "import cv2\n",
    "import matplotlib.pyplot as plt\n",
    "import numpy as np\n",
    "import os\n",
    "import open3d as o3d"
   ]
  },
  {
   "cell_type": "markdown",
   "id": "2ab5a1d8-a49f-4a01-b9e4-a81f338030e6",
   "metadata": {},
   "source": [
    "## Functions"
   ]
  },
  {
   "cell_type": "code",
   "execution_count": null,
   "id": "389b47da-4905-4ebb-969d-9cc0c47429bf",
   "metadata": {},
   "outputs": [],
   "source": [
    "def read_images_to_array(folder_path):\n",
    "\n",
    "  image_array = []\n",
    "  # Get a sorted list of filenames\n",
    "  filenames = sorted(os.listdir(folder_path))\n",
    "  for filename in filenames:\n",
    "    if filename.endswith(\".jpg\") or filename.endswith(\".png\"):\n",
    "      img_path = os.path.join(folder_path, filename)\n",
    "      img = cv2.imread(img_path)\n",
    "\n",
    "      if img is not None:\n",
    "        image_array.append(img)\n",
    "\n",
    "  return image_array\n",
    "\n",
    "def read_bin_files_to_array(folder_path):\n",
    "    bin_files = []\n",
    "    filenames = sorted(os.listdir(folder_path))\n",
    "    for filename in filenames:\n",
    "        if filename.endswith('.bin'):\n",
    "            file_path = os.path.join(folder_path, filename)\n",
    "            with open(file_path, 'rb') as file:\n",
    "                data = np.fromfile(file, dtype=np.float32)\n",
    "                bin_files.append(data)\n",
    "\n",
    "    return bin_files\n",
    "\n",
    "\n",
    "def split_images(image_array): \n",
    "\n",
    "    red_region_images = []\n",
    "    raw_images = [] \n",
    "\n",
    "    for image in image_array:\n",
    "        if image[25,100].sum() == 255*3 :\n",
    "            red_region_images.append(image)\n",
    "        else: \n",
    "            raw_images.append(image) \n",
    "            \n",
    "    return red_region_images, raw_images"
   ]
  },
  {
   "cell_type": "markdown",
   "id": "a08252b2-aab9-4df3-9a6b-562463c6679b",
   "metadata": {},
   "source": [
    "## Apply Functions to Data"
   ]
  },
  {
   "cell_type": "code",
   "execution_count": null,
   "id": "71827a33-b479-41a8-b52c-64ff0ad965aa",
   "metadata": {},
   "outputs": [],
   "source": [
    "folder_path = './data/Invotive_data'\n",
    "images = read_images_to_array(folder_path)\n",
    "\n",
    "masks, images = split_images(images) "
   ]
  },
  {
   "cell_type": "code",
   "execution_count": null,
   "id": "4a53c301-1be4-4f33-9e21-5e15a9e9bf05",
   "metadata": {},
   "outputs": [],
   "source": [
    "# sanity check \n",
    "\n",
    "rand = random.randint(0, len(images) -1) \n",
    "fig, ax = plt.subplots(1,2) \n",
    "\n",
    "ax[0].imshow(images[rand])\n",
    "ax[1].imshow(masks[rand])\n",
    "\n",
    "print(len(images)) \n",
    "print(len(masks))"
   ]
  },
  {
   "cell_type": "markdown",
   "id": "5cb1afd9-3673-4023-8028-f9c48f2c00d2",
   "metadata": {},
   "source": [
    "## Code for bin files "
   ]
  },
  {
   "cell_type": "code",
   "execution_count": null,
   "id": "bbf7fc19-7400-42ac-8117-26222a2dff2a",
   "metadata": {},
   "outputs": [],
   "source": [
    "# get all bin files from folder\n",
    "bin_files = read_bin_files_to_array(folder_path) "
   ]
  },
  {
   "cell_type": "code",
   "execution_count": null,
   "id": "1cab1d8a-27d3-47d4-98c5-98d877b18acd",
   "metadata": {},
   "outputs": [],
   "source": [
    "import numpy as np\n",
    "import matplotlib.pyplot as plt\n",
    "from mpl_toolkits.mplot3d import Axes3D\n",
    "\n",
    "def read_and_process_point_cloud(file_name):\n",
    "    # Open the file and read the data\n",
    "    with open(file_name, 'rb') as fid:\n",
    "        d = np.fromfile(fid, dtype=np.float32)\n",
    "\n",
    "    # Reshape the data into a 3-row matrix\n",
    "    d2 = d.reshape(3, -1)\n",
    "\n",
    "    # Remove any NaN or Inf values\n",
    "    valid_mask = np.all(np.isfinite(d2), axis=0)\n",
    "    d2 = d2[:, valid_mask]\n",
    "\n",
    "    # Center the data around 0 (optional)\n",
    "    d2[0, :] -= np.median(d2[0, :])\n",
    "    d2[1, :] -= np.median(d2[1, :])\n",
    "    d2[2, :] -= np.median(d2[2, :])\n",
    "\n",
    "    # Extract x, y, z coordinates\n",
    "    x = d2[0, :]\n",
    "    y = d2[1, :]\n",
    "    z = d2[2, :]\n",
    "\n",
    "    return x, y, z\n",
    "\n",
    "def plot_point_cloud(x, y, z):\n",
    "    fig = plt.figure()\n",
    "    ax = fig.add_subplot(111, projection='3d')\n",
    "\n",
    "    ax.scatter(x, y, z, c=z, cmap='viridis', marker='.')\n",
    "    \n",
    "    ax.set_xlabel('X')\n",
    "    ax.set_ylabel('Y')\n",
    "    ax.set_zlabel('Z')\n",
    "    \n",
    "    plt.show()\n"
   ]
  },
  {
   "cell_type": "code",
   "execution_count": null,
   "id": "5fc126d5-aa53-4505-9ca7-1e720c107a40",
   "metadata": {},
   "outputs": [],
   "source": [
    "rand = random.randint(0, len(bin_files) -1) \n",
    "rand_file = bin_files[rand]\n",
    "\n",
    "x, y, z = read_and_process_point_cloud('data/Invotive_data/L3.3 Parental 2-Control-1-0-38.bin')\n",
    "point_cloud = [x, y, z]\n",
    "\n",
    "pcd = o3d.geometry.PointCloud()\n",
    "pcd.points =  o3d.utility.Vector3dVector(point_cloud[:,:3])\n",
    "\n",
    "o3d.visualization.draw_geometries([pcd])"
   ]
  },
  {
   "cell_type": "code",
   "execution_count": null,
   "id": "fd1629bb-c00a-4971-8a7a-c4b8506fda98",
   "metadata": {},
   "outputs": [],
   "source": [
    "x, y, z = read_and_process_point_cloud('data/Invotive_data/L3.3 Parental 2-Control-1-0-39.bin')\n",
    "plot_point_cloud(x, y, z)"
   ]
  }
 ],
 "metadata": {
  "kernelspec": {
   "display_name": "detetcron2-env-3.10",
   "language": "python",
   "name": "detetcron2-env-3.10"
  },
  "language_info": {
   "codemirror_mode": {
    "name": "ipython",
    "version": 3
   },
   "file_extension": ".py",
   "mimetype": "text/x-python",
   "name": "python",
   "nbconvert_exporter": "python",
   "pygments_lexer": "ipython3",
   "version": "3.10.14"
  }
 },
 "nbformat": 4,
 "nbformat_minor": 5
}
