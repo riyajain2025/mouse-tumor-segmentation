{
 "cells": [
  {
   "cell_type": "code",
   "execution_count": 36,
   "metadata": {},
   "outputs": [],
   "source": [
    " \n",
    "%matplotlib inline\n",
    "import numpy as np\n",
    "import matplotlib.pyplot as plt\n",
    "from scipy.interpolate import griddata\n",
    "\n",
    "\n",
    "def read_and_process_point_cloud(file_name):\n",
    "    with open(file_name, 'rb') as fid:\n",
    "        data = np.fromfile(fid, dtype='>f8')\n",
    "    \n",
    "    points = data.reshape(-1, 3)\n",
    "    \n",
    "    x = points[:, 0]\n",
    "    y = points[:, 1]\n",
    "\n",
    "    z = [[] for _ in range(len(x))]\n",
    "    \n",
    "    for i in range(len(points)):\n",
    "        z[i].append(points[i, 2])  \n",
    "    \n",
    "    z = np.array(z)\n",
    "    \n",
    "    return x, y, z"
   ]
  },
  {
   "cell_type": "code",
   "execution_count": 37,
   "metadata": {},
   "outputs": [],
   "source": [
    "# load file \n",
    "\n",
    "file_path = './data/invotive_data/L3.3 Parental 2-Control-1-35-42.bin'\n",
    "x, y, z = read_and_process_point_cloud(file_path)"
   ]
  },
  {
   "cell_type": "code",
   "execution_count": 38,
   "metadata": {},
   "outputs": [
    {
     "name": "stdout",
     "output_type": "stream",
     "text": [
      "117029\n",
      "117029\n",
      "117029\n"
     ]
    }
   ],
   "source": [
    "print(len(x))\n",
    "print(len(y))\n",
    "print(len(z))"
   ]
  },
  {
   "cell_type": "code",
   "execution_count": 39,
   "metadata": {},
   "outputs": [],
   "source": [
    "ax = plt.axes(projection=\"3d\")\n",
    "\n",
    "surf = ax.plot_surface(x, y, z)\n"
   ]
  },
  {
   "cell_type": "code",
   "execution_count": null,
   "metadata": {},
   "outputs": [],
   "source": []
  }
 ],
 "metadata": {
  "kernelspec": {
   "display_name": "detetcron2-env-3.10",
   "language": "python",
   "name": "python3"
  },
  "language_info": {
   "codemirror_mode": {
    "name": "ipython",
    "version": 3
   },
   "file_extension": ".py",
   "mimetype": "text/x-python",
   "name": "python",
   "nbconvert_exporter": "python",
   "pygments_lexer": "ipython3",
   "version": "3.10.14"
  }
 },
 "nbformat": 4,
 "nbformat_minor": 2
}
